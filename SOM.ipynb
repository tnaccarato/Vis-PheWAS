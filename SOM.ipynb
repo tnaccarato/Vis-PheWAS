{
 "cells": [
  {
   "metadata": {},
   "cell_type": "markdown",
   "source": "# Self-Organizing Map (SOM) for PheWAS Data",
   "id": "9d686d5abc87139c"
  },
  {
   "metadata": {},
   "cell_type": "markdown",
   "source": [
    "## Import Libraries\n",
    "\n",
    "In this section, we will import the necessary libraries for the SOM analysis.\n"
   ],
   "id": "36f545dcca838fb5"
  },
  {
   "cell_type": "code",
   "id": "initial_id",
   "metadata": {
    "collapsed": true,
    "ExecuteTime": {
     "end_time": "2024-05-29T09:54:15.688875Z",
     "start_time": "2024-05-29T09:54:15.686366Z"
    }
   },
   "source": [
    "import numpy as np\n",
    "import pandas as pd\n",
    "import matplotlib.pyplot as plt\n",
    "from minisom import MiniSom\n"
   ],
   "outputs": [],
   "execution_count": 147
  },
  {
   "metadata": {},
   "cell_type": "markdown",
   "source": "## Load Data",
   "id": "9469ad0ae3d7d701"
  },
  {
   "metadata": {
    "ExecuteTime": {
     "end_time": "2024-05-29T09:54:15.942878Z",
     "start_time": "2024-05-29T09:54:15.716916Z"
    }
   },
   "cell_type": "code",
   "source": [
    "# Load the data\n",
    "data = pd.read_csv('Data/hla-phewas-catalog.csv')\n",
    "data.head()"
   ],
   "id": "6438fb8644859f26",
   "outputs": [
    {
     "data": {
      "text/plain": [
       "          snp  phewas_code         phewas_string  cases  controls  \\\n",
       "0    HLA_A_01          8.0  Intestinal infection    683     27384   \n",
       "1  HLA_A_0101          8.0  Intestinal infection    683     27384   \n",
       "2    HLA_A_02          8.0  Intestinal infection    683     27384   \n",
       "3  HLA_A_0201          8.0  Intestinal infection    683     27384   \n",
       "4    HLA_A_03          8.0  Intestinal infection    683     27384   \n",
       "\n",
       "       category_string  odds_ratio       p    l95    u95 gene_name     maf a1  \\\n",
       "0  infectious diseases       0.887  0.1654  0.749  1.051         A  0.1655  P   \n",
       "1  infectious diseases       0.882  0.1470  0.745  1.045         A  0.1653  P   \n",
       "2  infectious diseases       0.928  0.3378  0.797  1.081         A  0.3025  P   \n",
       "3  infectious diseases       0.919  0.2778  0.789  1.070         A  0.2906  P   \n",
       "4  infectious diseases       1.107  0.2359  0.936  1.310         A  0.1435  P   \n",
       "\n",
       "  a2  chromosome  nchrobs  \n",
       "0  A           6    57678  \n",
       "1  A           6    57678  \n",
       "2  A           6    57678  \n",
       "3  A           6    57678  \n",
       "4  A           6    57678  "
      ],
      "text/html": [
       "<div>\n",
       "<style scoped>\n",
       "    .dataframe tbody tr th:only-of-type {\n",
       "        vertical-align: middle;\n",
       "    }\n",
       "\n",
       "    .dataframe tbody tr th {\n",
       "        vertical-align: top;\n",
       "    }\n",
       "\n",
       "    .dataframe thead th {\n",
       "        text-align: right;\n",
       "    }\n",
       "</style>\n",
       "<table border=\"1\" class=\"dataframe\">\n",
       "  <thead>\n",
       "    <tr style=\"text-align: right;\">\n",
       "      <th></th>\n",
       "      <th>snp</th>\n",
       "      <th>phewas_code</th>\n",
       "      <th>phewas_string</th>\n",
       "      <th>cases</th>\n",
       "      <th>controls</th>\n",
       "      <th>category_string</th>\n",
       "      <th>odds_ratio</th>\n",
       "      <th>p</th>\n",
       "      <th>l95</th>\n",
       "      <th>u95</th>\n",
       "      <th>gene_name</th>\n",
       "      <th>maf</th>\n",
       "      <th>a1</th>\n",
       "      <th>a2</th>\n",
       "      <th>chromosome</th>\n",
       "      <th>nchrobs</th>\n",
       "    </tr>\n",
       "  </thead>\n",
       "  <tbody>\n",
       "    <tr>\n",
       "      <th>0</th>\n",
       "      <td>HLA_A_01</td>\n",
       "      <td>8.0</td>\n",
       "      <td>Intestinal infection</td>\n",
       "      <td>683</td>\n",
       "      <td>27384</td>\n",
       "      <td>infectious diseases</td>\n",
       "      <td>0.887</td>\n",
       "      <td>0.1654</td>\n",
       "      <td>0.749</td>\n",
       "      <td>1.051</td>\n",
       "      <td>A</td>\n",
       "      <td>0.1655</td>\n",
       "      <td>P</td>\n",
       "      <td>A</td>\n",
       "      <td>6</td>\n",
       "      <td>57678</td>\n",
       "    </tr>\n",
       "    <tr>\n",
       "      <th>1</th>\n",
       "      <td>HLA_A_0101</td>\n",
       "      <td>8.0</td>\n",
       "      <td>Intestinal infection</td>\n",
       "      <td>683</td>\n",
       "      <td>27384</td>\n",
       "      <td>infectious diseases</td>\n",
       "      <td>0.882</td>\n",
       "      <td>0.1470</td>\n",
       "      <td>0.745</td>\n",
       "      <td>1.045</td>\n",
       "      <td>A</td>\n",
       "      <td>0.1653</td>\n",
       "      <td>P</td>\n",
       "      <td>A</td>\n",
       "      <td>6</td>\n",
       "      <td>57678</td>\n",
       "    </tr>\n",
       "    <tr>\n",
       "      <th>2</th>\n",
       "      <td>HLA_A_02</td>\n",
       "      <td>8.0</td>\n",
       "      <td>Intestinal infection</td>\n",
       "      <td>683</td>\n",
       "      <td>27384</td>\n",
       "      <td>infectious diseases</td>\n",
       "      <td>0.928</td>\n",
       "      <td>0.3378</td>\n",
       "      <td>0.797</td>\n",
       "      <td>1.081</td>\n",
       "      <td>A</td>\n",
       "      <td>0.3025</td>\n",
       "      <td>P</td>\n",
       "      <td>A</td>\n",
       "      <td>6</td>\n",
       "      <td>57678</td>\n",
       "    </tr>\n",
       "    <tr>\n",
       "      <th>3</th>\n",
       "      <td>HLA_A_0201</td>\n",
       "      <td>8.0</td>\n",
       "      <td>Intestinal infection</td>\n",
       "      <td>683</td>\n",
       "      <td>27384</td>\n",
       "      <td>infectious diseases</td>\n",
       "      <td>0.919</td>\n",
       "      <td>0.2778</td>\n",
       "      <td>0.789</td>\n",
       "      <td>1.070</td>\n",
       "      <td>A</td>\n",
       "      <td>0.2906</td>\n",
       "      <td>P</td>\n",
       "      <td>A</td>\n",
       "      <td>6</td>\n",
       "      <td>57678</td>\n",
       "    </tr>\n",
       "    <tr>\n",
       "      <th>4</th>\n",
       "      <td>HLA_A_03</td>\n",
       "      <td>8.0</td>\n",
       "      <td>Intestinal infection</td>\n",
       "      <td>683</td>\n",
       "      <td>27384</td>\n",
       "      <td>infectious diseases</td>\n",
       "      <td>1.107</td>\n",
       "      <td>0.2359</td>\n",
       "      <td>0.936</td>\n",
       "      <td>1.310</td>\n",
       "      <td>A</td>\n",
       "      <td>0.1435</td>\n",
       "      <td>P</td>\n",
       "      <td>A</td>\n",
       "      <td>6</td>\n",
       "      <td>57678</td>\n",
       "    </tr>\n",
       "  </tbody>\n",
       "</table>\n",
       "</div>"
      ]
     },
     "execution_count": 148,
     "metadata": {},
     "output_type": "execute_result"
    }
   ],
   "execution_count": 148
  },
  {
   "metadata": {
    "ExecuteTime": {
     "end_time": "2024-05-29T09:54:15.946479Z",
     "start_time": "2024-05-29T09:54:15.943382Z"
    }
   },
   "cell_type": "code",
   "source": [
    "# Check the shape of the data\n",
    "data.shape"
   ],
   "id": "b4739f6822abde4d",
   "outputs": [
    {
     "data": {
      "text/plain": [
       "(240768, 16)"
      ]
     },
     "execution_count": 149,
     "metadata": {},
     "output_type": "execute_result"
    }
   ],
   "execution_count": 149
  },
  {
   "metadata": {
    "ExecuteTime": {
     "end_time": "2024-05-29T09:54:15.950505Z",
     "start_time": "2024-05-29T09:54:15.946479Z"
    }
   },
   "cell_type": "code",
   "source": [
    "# Check the columns of the data\n",
    "data.columns"
   ],
   "id": "abf7bcf70324a673",
   "outputs": [
    {
     "data": {
      "text/plain": [
       "Index(['snp', 'phewas_code', 'phewas_string', 'cases', 'controls',\n",
       "       'category_string', 'odds_ratio', 'p', 'l95', 'u95', 'gene_name', 'maf',\n",
       "       'a1', 'a2', 'chromosome', 'nchrobs'],\n",
       "      dtype='object')"
      ]
     },
     "execution_count": 150,
     "metadata": {},
     "output_type": "execute_result"
    }
   ],
   "execution_count": 150
  },
  {
   "metadata": {
    "ExecuteTime": {
     "end_time": "2024-05-29T09:54:15.954574Z",
     "start_time": "2024-05-29T09:54:15.951509Z"
    }
   },
   "cell_type": "code",
   "source": [
    "# Check the data types of the columns\n",
    "data.dtypes"
   ],
   "id": "f37ebfe6c84b7618",
   "outputs": [
    {
     "data": {
      "text/plain": [
       "snp                 object\n",
       "phewas_code        float64\n",
       "phewas_string       object\n",
       "cases                int64\n",
       "controls             int64\n",
       "category_string     object\n",
       "odds_ratio         float64\n",
       "p                  float64\n",
       "l95                float64\n",
       "u95                float64\n",
       "gene_name           object\n",
       "maf                float64\n",
       "a1                  object\n",
       "a2                  object\n",
       "chromosome           int64\n",
       "nchrobs              int64\n",
       "dtype: object"
      ]
     },
     "execution_count": 151,
     "metadata": {},
     "output_type": "execute_result"
    }
   ],
   "execution_count": 151
  },
  {
   "metadata": {
    "ExecuteTime": {
     "end_time": "2024-05-29T09:54:15.995126Z",
     "start_time": "2024-05-29T09:54:15.955078Z"
    }
   },
   "cell_type": "code",
   "source": [
    "# Check the missing values in the data\n",
    "data.isnull().sum()"
   ],
   "id": "106ebdcc64b65294",
   "outputs": [
    {
     "data": {
      "text/plain": [
       "snp                  0\n",
       "phewas_code          0\n",
       "phewas_string        0\n",
       "cases                0\n",
       "controls             0\n",
       "category_string    176\n",
       "odds_ratio           0\n",
       "p                    0\n",
       "l95                  0\n",
       "u95                  0\n",
       "gene_name            0\n",
       "maf                  0\n",
       "a1                   0\n",
       "a2                   0\n",
       "chromosome           0\n",
       "nchrobs              0\n",
       "dtype: int64"
      ]
     },
     "execution_count": 152,
     "metadata": {},
     "output_type": "execute_result"
    }
   ],
   "execution_count": 152
  },
  {
   "metadata": {
    "ExecuteTime": {
     "end_time": "2024-05-29T09:54:16.040803Z",
     "start_time": "2024-05-29T09:54:15.995631Z"
    }
   },
   "cell_type": "code",
   "source": [
    "# Print the specific rows with missing values\n",
    "data[data.isnull().any(axis=1)]"
   ],
   "id": "6791fe6fe7028de7",
   "outputs": [
    {
     "data": {
      "text/plain": [
       "                  snp  phewas_code phewas_string  cases  controls  \\\n",
       "225280       HLA_A_01        797.2  Septic shock    451     27328   \n",
       "225281     HLA_A_0101        797.2  Septic shock    451     27328   \n",
       "225282       HLA_A_02        797.2  Septic shock    451     27328   \n",
       "225283     HLA_A_0201        797.2  Septic shock    451     27328   \n",
       "225284       HLA_A_03        797.2  Septic shock    451     27328   \n",
       "...               ...          ...           ...    ...       ...   \n",
       "225451    HLA_DRB1_14        797.2  Septic shock    451     27328   \n",
       "225452  HLA_DRB1_1401        797.2  Septic shock    451     27328   \n",
       "225453    HLA_DRB1_15        797.2  Septic shock    451     27328   \n",
       "225454  HLA_DRB1_1501        797.2  Septic shock    451     27328   \n",
       "225455    HLA_DRB1_16        797.2  Septic shock    451     27328   \n",
       "\n",
       "       category_string  odds_ratio       p    l95    u95 gene_name      maf  \\\n",
       "225280             NaN       1.079  0.4575  0.883  1.317         A  0.16550   \n",
       "225281             NaN       1.080  0.4487  0.885  1.319         A  0.16530   \n",
       "225282             NaN       0.972  0.7613  0.806  1.171         A  0.30250   \n",
       "225283             NaN       1.011  0.9078  0.839  1.218         A  0.29060   \n",
       "225284             NaN       0.866  0.1961  0.697  1.077         A  0.14350   \n",
       "...                ...         ...     ...    ...    ...       ...      ...   \n",
       "225451             NaN       1.086  0.7154  0.698  1.690      DRB1  0.02207   \n",
       "225452             NaN       0.745  0.3377  0.408  1.360      DRB1  0.01644   \n",
       "225453             NaN       0.847  0.1330  0.683  1.052      DRB1  0.14790   \n",
       "225454             NaN       0.837  0.1124  0.671  1.043      DRB1  0.14080   \n",
       "225455             NaN       1.505  0.1523  0.860  2.634      DRB1  0.01000   \n",
       "\n",
       "       a1 a2  chromosome  nchrobs  \n",
       "225280  P  A           6    57678  \n",
       "225281  P  A           6    57678  \n",
       "225282  P  A           6    57678  \n",
       "225283  P  A           6    57678  \n",
       "225284  P  A           6    57678  \n",
       "...    .. ..         ...      ...  \n",
       "225451  P  A           6    57678  \n",
       "225452  P  A           6    57678  \n",
       "225453  P  A           6    57678  \n",
       "225454  P  A           6    57678  \n",
       "225455  P  A           6    57678  \n",
       "\n",
       "[176 rows x 16 columns]"
      ],
      "text/html": [
       "<div>\n",
       "<style scoped>\n",
       "    .dataframe tbody tr th:only-of-type {\n",
       "        vertical-align: middle;\n",
       "    }\n",
       "\n",
       "    .dataframe tbody tr th {\n",
       "        vertical-align: top;\n",
       "    }\n",
       "\n",
       "    .dataframe thead th {\n",
       "        text-align: right;\n",
       "    }\n",
       "</style>\n",
       "<table border=\"1\" class=\"dataframe\">\n",
       "  <thead>\n",
       "    <tr style=\"text-align: right;\">\n",
       "      <th></th>\n",
       "      <th>snp</th>\n",
       "      <th>phewas_code</th>\n",
       "      <th>phewas_string</th>\n",
       "      <th>cases</th>\n",
       "      <th>controls</th>\n",
       "      <th>category_string</th>\n",
       "      <th>odds_ratio</th>\n",
       "      <th>p</th>\n",
       "      <th>l95</th>\n",
       "      <th>u95</th>\n",
       "      <th>gene_name</th>\n",
       "      <th>maf</th>\n",
       "      <th>a1</th>\n",
       "      <th>a2</th>\n",
       "      <th>chromosome</th>\n",
       "      <th>nchrobs</th>\n",
       "    </tr>\n",
       "  </thead>\n",
       "  <tbody>\n",
       "    <tr>\n",
       "      <th>225280</th>\n",
       "      <td>HLA_A_01</td>\n",
       "      <td>797.2</td>\n",
       "      <td>Septic shock</td>\n",
       "      <td>451</td>\n",
       "      <td>27328</td>\n",
       "      <td>NaN</td>\n",
       "      <td>1.079</td>\n",
       "      <td>0.4575</td>\n",
       "      <td>0.883</td>\n",
       "      <td>1.317</td>\n",
       "      <td>A</td>\n",
       "      <td>0.16550</td>\n",
       "      <td>P</td>\n",
       "      <td>A</td>\n",
       "      <td>6</td>\n",
       "      <td>57678</td>\n",
       "    </tr>\n",
       "    <tr>\n",
       "      <th>225281</th>\n",
       "      <td>HLA_A_0101</td>\n",
       "      <td>797.2</td>\n",
       "      <td>Septic shock</td>\n",
       "      <td>451</td>\n",
       "      <td>27328</td>\n",
       "      <td>NaN</td>\n",
       "      <td>1.080</td>\n",
       "      <td>0.4487</td>\n",
       "      <td>0.885</td>\n",
       "      <td>1.319</td>\n",
       "      <td>A</td>\n",
       "      <td>0.16530</td>\n",
       "      <td>P</td>\n",
       "      <td>A</td>\n",
       "      <td>6</td>\n",
       "      <td>57678</td>\n",
       "    </tr>\n",
       "    <tr>\n",
       "      <th>225282</th>\n",
       "      <td>HLA_A_02</td>\n",
       "      <td>797.2</td>\n",
       "      <td>Septic shock</td>\n",
       "      <td>451</td>\n",
       "      <td>27328</td>\n",
       "      <td>NaN</td>\n",
       "      <td>0.972</td>\n",
       "      <td>0.7613</td>\n",
       "      <td>0.806</td>\n",
       "      <td>1.171</td>\n",
       "      <td>A</td>\n",
       "      <td>0.30250</td>\n",
       "      <td>P</td>\n",
       "      <td>A</td>\n",
       "      <td>6</td>\n",
       "      <td>57678</td>\n",
       "    </tr>\n",
       "    <tr>\n",
       "      <th>225283</th>\n",
       "      <td>HLA_A_0201</td>\n",
       "      <td>797.2</td>\n",
       "      <td>Septic shock</td>\n",
       "      <td>451</td>\n",
       "      <td>27328</td>\n",
       "      <td>NaN</td>\n",
       "      <td>1.011</td>\n",
       "      <td>0.9078</td>\n",
       "      <td>0.839</td>\n",
       "      <td>1.218</td>\n",
       "      <td>A</td>\n",
       "      <td>0.29060</td>\n",
       "      <td>P</td>\n",
       "      <td>A</td>\n",
       "      <td>6</td>\n",
       "      <td>57678</td>\n",
       "    </tr>\n",
       "    <tr>\n",
       "      <th>225284</th>\n",
       "      <td>HLA_A_03</td>\n",
       "      <td>797.2</td>\n",
       "      <td>Septic shock</td>\n",
       "      <td>451</td>\n",
       "      <td>27328</td>\n",
       "      <td>NaN</td>\n",
       "      <td>0.866</td>\n",
       "      <td>0.1961</td>\n",
       "      <td>0.697</td>\n",
       "      <td>1.077</td>\n",
       "      <td>A</td>\n",
       "      <td>0.14350</td>\n",
       "      <td>P</td>\n",
       "      <td>A</td>\n",
       "      <td>6</td>\n",
       "      <td>57678</td>\n",
       "    </tr>\n",
       "    <tr>\n",
       "      <th>...</th>\n",
       "      <td>...</td>\n",
       "      <td>...</td>\n",
       "      <td>...</td>\n",
       "      <td>...</td>\n",
       "      <td>...</td>\n",
       "      <td>...</td>\n",
       "      <td>...</td>\n",
       "      <td>...</td>\n",
       "      <td>...</td>\n",
       "      <td>...</td>\n",
       "      <td>...</td>\n",
       "      <td>...</td>\n",
       "      <td>...</td>\n",
       "      <td>...</td>\n",
       "      <td>...</td>\n",
       "      <td>...</td>\n",
       "    </tr>\n",
       "    <tr>\n",
       "      <th>225451</th>\n",
       "      <td>HLA_DRB1_14</td>\n",
       "      <td>797.2</td>\n",
       "      <td>Septic shock</td>\n",
       "      <td>451</td>\n",
       "      <td>27328</td>\n",
       "      <td>NaN</td>\n",
       "      <td>1.086</td>\n",
       "      <td>0.7154</td>\n",
       "      <td>0.698</td>\n",
       "      <td>1.690</td>\n",
       "      <td>DRB1</td>\n",
       "      <td>0.02207</td>\n",
       "      <td>P</td>\n",
       "      <td>A</td>\n",
       "      <td>6</td>\n",
       "      <td>57678</td>\n",
       "    </tr>\n",
       "    <tr>\n",
       "      <th>225452</th>\n",
       "      <td>HLA_DRB1_1401</td>\n",
       "      <td>797.2</td>\n",
       "      <td>Septic shock</td>\n",
       "      <td>451</td>\n",
       "      <td>27328</td>\n",
       "      <td>NaN</td>\n",
       "      <td>0.745</td>\n",
       "      <td>0.3377</td>\n",
       "      <td>0.408</td>\n",
       "      <td>1.360</td>\n",
       "      <td>DRB1</td>\n",
       "      <td>0.01644</td>\n",
       "      <td>P</td>\n",
       "      <td>A</td>\n",
       "      <td>6</td>\n",
       "      <td>57678</td>\n",
       "    </tr>\n",
       "    <tr>\n",
       "      <th>225453</th>\n",
       "      <td>HLA_DRB1_15</td>\n",
       "      <td>797.2</td>\n",
       "      <td>Septic shock</td>\n",
       "      <td>451</td>\n",
       "      <td>27328</td>\n",
       "      <td>NaN</td>\n",
       "      <td>0.847</td>\n",
       "      <td>0.1330</td>\n",
       "      <td>0.683</td>\n",
       "      <td>1.052</td>\n",
       "      <td>DRB1</td>\n",
       "      <td>0.14790</td>\n",
       "      <td>P</td>\n",
       "      <td>A</td>\n",
       "      <td>6</td>\n",
       "      <td>57678</td>\n",
       "    </tr>\n",
       "    <tr>\n",
       "      <th>225454</th>\n",
       "      <td>HLA_DRB1_1501</td>\n",
       "      <td>797.2</td>\n",
       "      <td>Septic shock</td>\n",
       "      <td>451</td>\n",
       "      <td>27328</td>\n",
       "      <td>NaN</td>\n",
       "      <td>0.837</td>\n",
       "      <td>0.1124</td>\n",
       "      <td>0.671</td>\n",
       "      <td>1.043</td>\n",
       "      <td>DRB1</td>\n",
       "      <td>0.14080</td>\n",
       "      <td>P</td>\n",
       "      <td>A</td>\n",
       "      <td>6</td>\n",
       "      <td>57678</td>\n",
       "    </tr>\n",
       "    <tr>\n",
       "      <th>225455</th>\n",
       "      <td>HLA_DRB1_16</td>\n",
       "      <td>797.2</td>\n",
       "      <td>Septic shock</td>\n",
       "      <td>451</td>\n",
       "      <td>27328</td>\n",
       "      <td>NaN</td>\n",
       "      <td>1.505</td>\n",
       "      <td>0.1523</td>\n",
       "      <td>0.860</td>\n",
       "      <td>2.634</td>\n",
       "      <td>DRB1</td>\n",
       "      <td>0.01000</td>\n",
       "      <td>P</td>\n",
       "      <td>A</td>\n",
       "      <td>6</td>\n",
       "      <td>57678</td>\n",
       "    </tr>\n",
       "  </tbody>\n",
       "</table>\n",
       "<p>176 rows × 16 columns</p>\n",
       "</div>"
      ]
     },
     "execution_count": 153,
     "metadata": {},
     "output_type": "execute_result"
    }
   ],
   "execution_count": 153
  },
  {
   "metadata": {
    "ExecuteTime": {
     "end_time": "2024-05-29T09:54:16.052822Z",
     "start_time": "2024-05-29T09:54:16.041808Z"
    }
   },
   "cell_type": "code",
   "source": [
    "# Check that all the septic shock categories are missing\n",
    "data[data['phewas_string'] == 'Septic shock'].shape"
   ],
   "id": "3806e19d56739bd3",
   "outputs": [
    {
     "data": {
      "text/plain": [
       "(176, 16)"
      ]
     },
     "execution_count": 154,
     "metadata": {},
     "output_type": "execute_result"
    }
   ],
   "execution_count": 154
  },
  {
   "metadata": {
    "ExecuteTime": {
     "end_time": "2024-05-29T09:54:16.102298Z",
     "start_time": "2024-05-29T09:54:16.053325Z"
    }
   },
   "cell_type": "code",
   "source": [
    "# Impute the missing values with infectious diseases as is closest to the missing values\n",
    "data['category_string'] = data['category_string'].fillna('infectious diseases')\n",
    "\n",
    "# Check the missing values in the data\n",
    "data.isnull().sum()"
   ],
   "id": "fe9460ef6bf22733",
   "outputs": [
    {
     "data": {
      "text/plain": [
       "snp                0\n",
       "phewas_code        0\n",
       "phewas_string      0\n",
       "cases              0\n",
       "controls           0\n",
       "category_string    0\n",
       "odds_ratio         0\n",
       "p                  0\n",
       "l95                0\n",
       "u95                0\n",
       "gene_name          0\n",
       "maf                0\n",
       "a1                 0\n",
       "a2                 0\n",
       "chromosome         0\n",
       "nchrobs            0\n",
       "dtype: int64"
      ]
     },
     "execution_count": 155,
     "metadata": {},
     "output_type": "execute_result"
    }
   ],
   "execution_count": 155
  },
  {
   "metadata": {
    "ExecuteTime": {
     "end_time": "2024-05-29T09:54:16.107253Z",
     "start_time": "2024-05-29T09:54:16.102806Z"
    }
   },
   "cell_type": "code",
   "source": [
    "# Check for unique values in chromosome and nchrobs column\n",
    "len(data['chromosome'].unique())"
   ],
   "id": "bf12aad74da3db5",
   "outputs": [
    {
     "data": {
      "text/plain": [
       "1"
      ]
     },
     "execution_count": 156,
     "metadata": {},
     "output_type": "execute_result"
    }
   ],
   "execution_count": 156
  },
  {
   "metadata": {
    "ExecuteTime": {
     "end_time": "2024-05-29T09:54:16.112461Z",
     "start_time": "2024-05-29T09:54:16.108258Z"
    }
   },
   "cell_type": "code",
   "source": "len(data['nchrobs'].unique())",
   "id": "f10d320b0b1eb6c8",
   "outputs": [
    {
     "data": {
      "text/plain": [
       "1"
      ]
     },
     "execution_count": 157,
     "metadata": {},
     "output_type": "execute_result"
    }
   ],
   "execution_count": 157
  },
  {
   "metadata": {
    "ExecuteTime": {
     "end_time": "2024-05-29T09:54:16.127484Z",
     "start_time": "2024-05-29T09:54:16.112964Z"
    }
   },
   "cell_type": "code",
   "source": [
    "# Drop chromosome and nchrobs columns as they are the same for all the rows (because the data is from the same chromosome)\n",
    "data = data.drop(['chromosome', 'nchrobs'], axis=1)"
   ],
   "id": "1fe87246286487dd",
   "outputs": [],
   "execution_count": 158
  },
  {
   "metadata": {
    "ExecuteTime": {
     "end_time": "2024-05-29T09:54:16.129678Z",
     "start_time": "2024-05-29T09:54:16.127984Z"
    }
   },
   "cell_type": "code",
   "source": "",
   "id": "4e92c6bc2d4cdacf",
   "outputs": [],
   "execution_count": 158
  },
  {
   "metadata": {},
   "cell_type": "markdown",
   "source": "## Data Preprocessing",
   "id": "e19900c831936eb4"
  },
  {
   "metadata": {
    "ExecuteTime": {
     "end_time": "2024-05-29T09:54:16.657552Z",
     "start_time": "2024-05-29T09:54:16.130182Z"
    }
   },
   "cell_type": "code",
   "source": [
    "# Normalise the data\n",
    "from sklearn.preprocessing import StandardScaler"
   ],
   "id": "afd17ebe20ae68a4",
   "outputs": [],
   "execution_count": 159
  },
  {
   "metadata": {
    "ExecuteTime": {
     "end_time": "2024-05-29T09:54:16.660132Z",
     "start_time": "2024-05-29T09:54:16.658056Z"
    }
   },
   "cell_type": "code",
   "source": "",
   "id": "58129e0f04df2bd4",
   "outputs": [],
   "execution_count": 159
  }
 ],
 "metadata": {
  "kernelspec": {
   "display_name": "Python 3",
   "language": "python",
   "name": "python3"
  },
  "language_info": {
   "codemirror_mode": {
    "name": "ipython",
    "version": 2
   },
   "file_extension": ".py",
   "mimetype": "text/x-python",
   "name": "python",
   "nbconvert_exporter": "python",
   "pygments_lexer": "ipython2",
   "version": "2.7.6"
  }
 },
 "nbformat": 4,
 "nbformat_minor": 5
}
