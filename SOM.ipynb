{
 "cells": [
  {
   "metadata": {},
   "cell_type": "markdown",
   "source": "# Self-Organizing Map (SOM) for PheWAS Data",
   "id": "9d686d5abc87139c"
  },
  {
   "metadata": {},
   "cell_type": "markdown",
   "source": [
    "## Import Libraries\n",
    "\n",
    "In this section, we will import the necessary libraries for the SOM analysis.\n"
   ],
   "id": "36f545dcca838fb5"
  },
  {
   "cell_type": "code",
   "id": "initial_id",
   "metadata": {
    "collapsed": true,
    "ExecuteTime": {
     "end_time": "2024-05-30T09:25:44.974657Z",
     "start_time": "2024-05-30T09:25:43.228120Z"
    }
   },
   "source": [
    "import numpy as np\n",
    "import pandas as pd\n",
    "import matplotlib.pyplot as plt\n",
    "from minisom import MiniSom\n",
    "import category_encoders as ce"
   ],
   "outputs": [],
   "execution_count": 1
  },
  {
   "metadata": {},
   "cell_type": "markdown",
   "source": "## Load Data",
   "id": "9469ad0ae3d7d701"
  },
  {
   "metadata": {
    "ExecuteTime": {
     "end_time": "2024-05-30T09:25:45.190613Z",
     "start_time": "2024-05-30T09:25:44.975661Z"
    }
   },
   "cell_type": "code",
   "source": [
    "# Load the data\n",
    "data = pd.read_csv('Data/hla-phewas-catalog.csv')\n",
    "data.head()"
   ],
   "id": "6438fb8644859f26",
   "outputs": [
    {
     "data": {
      "text/plain": [
       "          snp  phewas_code         phewas_string  cases  controls  \\\n",
       "0    HLA_A_01          8.0  Intestinal infection    683     27384   \n",
       "1  HLA_A_0101          8.0  Intestinal infection    683     27384   \n",
       "2    HLA_A_02          8.0  Intestinal infection    683     27384   \n",
       "3  HLA_A_0201          8.0  Intestinal infection    683     27384   \n",
       "4    HLA_A_03          8.0  Intestinal infection    683     27384   \n",
       "\n",
       "       category_string  odds_ratio       p    l95    u95 gene_name     maf a1  \\\n",
       "0  infectious diseases       0.887  0.1654  0.749  1.051         A  0.1655  P   \n",
       "1  infectious diseases       0.882  0.1470  0.745  1.045         A  0.1653  P   \n",
       "2  infectious diseases       0.928  0.3378  0.797  1.081         A  0.3025  P   \n",
       "3  infectious diseases       0.919  0.2778  0.789  1.070         A  0.2906  P   \n",
       "4  infectious diseases       1.107  0.2359  0.936  1.310         A  0.1435  P   \n",
       "\n",
       "  a2  chromosome  nchrobs  \n",
       "0  A           6    57678  \n",
       "1  A           6    57678  \n",
       "2  A           6    57678  \n",
       "3  A           6    57678  \n",
       "4  A           6    57678  "
      ],
      "text/html": [
       "<div>\n",
       "<style scoped>\n",
       "    .dataframe tbody tr th:only-of-type {\n",
       "        vertical-align: middle;\n",
       "    }\n",
       "\n",
       "    .dataframe tbody tr th {\n",
       "        vertical-align: top;\n",
       "    }\n",
       "\n",
       "    .dataframe thead th {\n",
       "        text-align: right;\n",
       "    }\n",
       "</style>\n",
       "<table border=\"1\" class=\"dataframe\">\n",
       "  <thead>\n",
       "    <tr style=\"text-align: right;\">\n",
       "      <th></th>\n",
       "      <th>snp</th>\n",
       "      <th>phewas_code</th>\n",
       "      <th>phewas_string</th>\n",
       "      <th>cases</th>\n",
       "      <th>controls</th>\n",
       "      <th>category_string</th>\n",
       "      <th>odds_ratio</th>\n",
       "      <th>p</th>\n",
       "      <th>l95</th>\n",
       "      <th>u95</th>\n",
       "      <th>gene_name</th>\n",
       "      <th>maf</th>\n",
       "      <th>a1</th>\n",
       "      <th>a2</th>\n",
       "      <th>chromosome</th>\n",
       "      <th>nchrobs</th>\n",
       "    </tr>\n",
       "  </thead>\n",
       "  <tbody>\n",
       "    <tr>\n",
       "      <th>0</th>\n",
       "      <td>HLA_A_01</td>\n",
       "      <td>8.0</td>\n",
       "      <td>Intestinal infection</td>\n",
       "      <td>683</td>\n",
       "      <td>27384</td>\n",
       "      <td>infectious diseases</td>\n",
       "      <td>0.887</td>\n",
       "      <td>0.1654</td>\n",
       "      <td>0.749</td>\n",
       "      <td>1.051</td>\n",
       "      <td>A</td>\n",
       "      <td>0.1655</td>\n",
       "      <td>P</td>\n",
       "      <td>A</td>\n",
       "      <td>6</td>\n",
       "      <td>57678</td>\n",
       "    </tr>\n",
       "    <tr>\n",
       "      <th>1</th>\n",
       "      <td>HLA_A_0101</td>\n",
       "      <td>8.0</td>\n",
       "      <td>Intestinal infection</td>\n",
       "      <td>683</td>\n",
       "      <td>27384</td>\n",
       "      <td>infectious diseases</td>\n",
       "      <td>0.882</td>\n",
       "      <td>0.1470</td>\n",
       "      <td>0.745</td>\n",
       "      <td>1.045</td>\n",
       "      <td>A</td>\n",
       "      <td>0.1653</td>\n",
       "      <td>P</td>\n",
       "      <td>A</td>\n",
       "      <td>6</td>\n",
       "      <td>57678</td>\n",
       "    </tr>\n",
       "    <tr>\n",
       "      <th>2</th>\n",
       "      <td>HLA_A_02</td>\n",
       "      <td>8.0</td>\n",
       "      <td>Intestinal infection</td>\n",
       "      <td>683</td>\n",
       "      <td>27384</td>\n",
       "      <td>infectious diseases</td>\n",
       "      <td>0.928</td>\n",
       "      <td>0.3378</td>\n",
       "      <td>0.797</td>\n",
       "      <td>1.081</td>\n",
       "      <td>A</td>\n",
       "      <td>0.3025</td>\n",
       "      <td>P</td>\n",
       "      <td>A</td>\n",
       "      <td>6</td>\n",
       "      <td>57678</td>\n",
       "    </tr>\n",
       "    <tr>\n",
       "      <th>3</th>\n",
       "      <td>HLA_A_0201</td>\n",
       "      <td>8.0</td>\n",
       "      <td>Intestinal infection</td>\n",
       "      <td>683</td>\n",
       "      <td>27384</td>\n",
       "      <td>infectious diseases</td>\n",
       "      <td>0.919</td>\n",
       "      <td>0.2778</td>\n",
       "      <td>0.789</td>\n",
       "      <td>1.070</td>\n",
       "      <td>A</td>\n",
       "      <td>0.2906</td>\n",
       "      <td>P</td>\n",
       "      <td>A</td>\n",
       "      <td>6</td>\n",
       "      <td>57678</td>\n",
       "    </tr>\n",
       "    <tr>\n",
       "      <th>4</th>\n",
       "      <td>HLA_A_03</td>\n",
       "      <td>8.0</td>\n",
       "      <td>Intestinal infection</td>\n",
       "      <td>683</td>\n",
       "      <td>27384</td>\n",
       "      <td>infectious diseases</td>\n",
       "      <td>1.107</td>\n",
       "      <td>0.2359</td>\n",
       "      <td>0.936</td>\n",
       "      <td>1.310</td>\n",
       "      <td>A</td>\n",
       "      <td>0.1435</td>\n",
       "      <td>P</td>\n",
       "      <td>A</td>\n",
       "      <td>6</td>\n",
       "      <td>57678</td>\n",
       "    </tr>\n",
       "  </tbody>\n",
       "</table>\n",
       "</div>"
      ]
     },
     "execution_count": 2,
     "metadata": {},
     "output_type": "execute_result"
    }
   ],
   "execution_count": 2
  },
  {
   "metadata": {
    "ExecuteTime": {
     "end_time": "2024-05-30T09:25:45.194224Z",
     "start_time": "2024-05-30T09:25:45.191118Z"
    }
   },
   "cell_type": "code",
   "source": [
    "# Check the shape of the data\n",
    "data.shape"
   ],
   "id": "b4739f6822abde4d",
   "outputs": [
    {
     "data": {
      "text/plain": [
       "(240768, 16)"
      ]
     },
     "execution_count": 3,
     "metadata": {},
     "output_type": "execute_result"
    }
   ],
   "execution_count": 3
  },
  {
   "metadata": {
    "ExecuteTime": {
     "end_time": "2024-05-30T09:25:45.198285Z",
     "start_time": "2024-05-30T09:25:45.195228Z"
    }
   },
   "cell_type": "code",
   "source": [
    "# Check the columns of the data\n",
    "data.columns"
   ],
   "id": "abf7bcf70324a673",
   "outputs": [
    {
     "data": {
      "text/plain": [
       "Index(['snp', 'phewas_code', 'phewas_string', 'cases', 'controls',\n",
       "       'category_string', 'odds_ratio', 'p', 'l95', 'u95', 'gene_name', 'maf',\n",
       "       'a1', 'a2', 'chromosome', 'nchrobs'],\n",
       "      dtype='object')"
      ]
     },
     "execution_count": 4,
     "metadata": {},
     "output_type": "execute_result"
    }
   ],
   "execution_count": 4
  },
  {
   "metadata": {
    "ExecuteTime": {
     "end_time": "2024-05-30T09:25:45.266887Z",
     "start_time": "2024-05-30T09:25:45.198789Z"
    }
   },
   "cell_type": "code",
   "source": [
    "# Describe the data\n",
    "data.describe()"
   ],
   "id": "c73311fe4ba4eab6",
   "outputs": [
    {
     "data": {
      "text/plain": [
       "         phewas_code          cases       controls     odds_ratio  \\\n",
       "count  240768.000000  240768.000000  240768.000000  240768.000000   \n",
       "mean      476.797734     605.363304   22841.290205       1.008905   \n",
       "std       214.739026    1021.123758    3965.917375       0.353697   \n",
       "min         8.000000      40.000000    9354.000000       0.000000   \n",
       "25%       290.275000     104.000000   21062.000000       0.856000   \n",
       "50%       452.100000     264.500000   23598.000000       0.994000   \n",
       "75%       627.625000     672.250000   25503.250000       1.132000   \n",
       "max       994.200000   12197.000000   28737.000000      34.700000   \n",
       "\n",
       "                  p            l95            u95            maf  chromosome  \\\n",
       "count  2.407680e+05  240768.000000  240768.000000  240768.000000    240768.0   \n",
       "mean   4.986146e-01       0.639304       1.825813       0.080838         6.0   \n",
       "std    2.933468e-01       0.263825       5.089146       0.082685         0.0   \n",
       "min    4.613000e-54       0.000000       0.000000       0.010000         6.0   \n",
       "25%    2.444000e-01       0.478000       1.222000       0.022160         6.0   \n",
       "50%    4.958000e-01       0.683000       1.480000       0.044105         6.0   \n",
       "75%    7.521000e-01       0.829000       1.999000       0.123475         6.0   \n",
       "max    1.000000e+00      18.940000     999.999000       0.453300         6.0   \n",
       "\n",
       "        nchrobs  \n",
       "count  240768.0  \n",
       "mean    57678.0  \n",
       "std         0.0  \n",
       "min     57678.0  \n",
       "25%     57678.0  \n",
       "50%     57678.0  \n",
       "75%     57678.0  \n",
       "max     57678.0  "
      ],
      "text/html": [
       "<div>\n",
       "<style scoped>\n",
       "    .dataframe tbody tr th:only-of-type {\n",
       "        vertical-align: middle;\n",
       "    }\n",
       "\n",
       "    .dataframe tbody tr th {\n",
       "        vertical-align: top;\n",
       "    }\n",
       "\n",
       "    .dataframe thead th {\n",
       "        text-align: right;\n",
       "    }\n",
       "</style>\n",
       "<table border=\"1\" class=\"dataframe\">\n",
       "  <thead>\n",
       "    <tr style=\"text-align: right;\">\n",
       "      <th></th>\n",
       "      <th>phewas_code</th>\n",
       "      <th>cases</th>\n",
       "      <th>controls</th>\n",
       "      <th>odds_ratio</th>\n",
       "      <th>p</th>\n",
       "      <th>l95</th>\n",
       "      <th>u95</th>\n",
       "      <th>maf</th>\n",
       "      <th>chromosome</th>\n",
       "      <th>nchrobs</th>\n",
       "    </tr>\n",
       "  </thead>\n",
       "  <tbody>\n",
       "    <tr>\n",
       "      <th>count</th>\n",
       "      <td>240768.000000</td>\n",
       "      <td>240768.000000</td>\n",
       "      <td>240768.000000</td>\n",
       "      <td>240768.000000</td>\n",
       "      <td>2.407680e+05</td>\n",
       "      <td>240768.000000</td>\n",
       "      <td>240768.000000</td>\n",
       "      <td>240768.000000</td>\n",
       "      <td>240768.0</td>\n",
       "      <td>240768.0</td>\n",
       "    </tr>\n",
       "    <tr>\n",
       "      <th>mean</th>\n",
       "      <td>476.797734</td>\n",
       "      <td>605.363304</td>\n",
       "      <td>22841.290205</td>\n",
       "      <td>1.008905</td>\n",
       "      <td>4.986146e-01</td>\n",
       "      <td>0.639304</td>\n",
       "      <td>1.825813</td>\n",
       "      <td>0.080838</td>\n",
       "      <td>6.0</td>\n",
       "      <td>57678.0</td>\n",
       "    </tr>\n",
       "    <tr>\n",
       "      <th>std</th>\n",
       "      <td>214.739026</td>\n",
       "      <td>1021.123758</td>\n",
       "      <td>3965.917375</td>\n",
       "      <td>0.353697</td>\n",
       "      <td>2.933468e-01</td>\n",
       "      <td>0.263825</td>\n",
       "      <td>5.089146</td>\n",
       "      <td>0.082685</td>\n",
       "      <td>0.0</td>\n",
       "      <td>0.0</td>\n",
       "    </tr>\n",
       "    <tr>\n",
       "      <th>min</th>\n",
       "      <td>8.000000</td>\n",
       "      <td>40.000000</td>\n",
       "      <td>9354.000000</td>\n",
       "      <td>0.000000</td>\n",
       "      <td>4.613000e-54</td>\n",
       "      <td>0.000000</td>\n",
       "      <td>0.000000</td>\n",
       "      <td>0.010000</td>\n",
       "      <td>6.0</td>\n",
       "      <td>57678.0</td>\n",
       "    </tr>\n",
       "    <tr>\n",
       "      <th>25%</th>\n",
       "      <td>290.275000</td>\n",
       "      <td>104.000000</td>\n",
       "      <td>21062.000000</td>\n",
       "      <td>0.856000</td>\n",
       "      <td>2.444000e-01</td>\n",
       "      <td>0.478000</td>\n",
       "      <td>1.222000</td>\n",
       "      <td>0.022160</td>\n",
       "      <td>6.0</td>\n",
       "      <td>57678.0</td>\n",
       "    </tr>\n",
       "    <tr>\n",
       "      <th>50%</th>\n",
       "      <td>452.100000</td>\n",
       "      <td>264.500000</td>\n",
       "      <td>23598.000000</td>\n",
       "      <td>0.994000</td>\n",
       "      <td>4.958000e-01</td>\n",
       "      <td>0.683000</td>\n",
       "      <td>1.480000</td>\n",
       "      <td>0.044105</td>\n",
       "      <td>6.0</td>\n",
       "      <td>57678.0</td>\n",
       "    </tr>\n",
       "    <tr>\n",
       "      <th>75%</th>\n",
       "      <td>627.625000</td>\n",
       "      <td>672.250000</td>\n",
       "      <td>25503.250000</td>\n",
       "      <td>1.132000</td>\n",
       "      <td>7.521000e-01</td>\n",
       "      <td>0.829000</td>\n",
       "      <td>1.999000</td>\n",
       "      <td>0.123475</td>\n",
       "      <td>6.0</td>\n",
       "      <td>57678.0</td>\n",
       "    </tr>\n",
       "    <tr>\n",
       "      <th>max</th>\n",
       "      <td>994.200000</td>\n",
       "      <td>12197.000000</td>\n",
       "      <td>28737.000000</td>\n",
       "      <td>34.700000</td>\n",
       "      <td>1.000000e+00</td>\n",
       "      <td>18.940000</td>\n",
       "      <td>999.999000</td>\n",
       "      <td>0.453300</td>\n",
       "      <td>6.0</td>\n",
       "      <td>57678.0</td>\n",
       "    </tr>\n",
       "  </tbody>\n",
       "</table>\n",
       "</div>"
      ]
     },
     "execution_count": 5,
     "metadata": {},
     "output_type": "execute_result"
    }
   ],
   "execution_count": 5
  },
  {
   "metadata": {
    "ExecuteTime": {
     "end_time": "2024-05-30T09:25:45.270855Z",
     "start_time": "2024-05-30T09:25:45.267391Z"
    }
   },
   "cell_type": "code",
   "source": [
    "# Check the data types of the columns\n",
    "data.dtypes"
   ],
   "id": "f37ebfe6c84b7618",
   "outputs": [
    {
     "data": {
      "text/plain": [
       "snp                 object\n",
       "phewas_code        float64\n",
       "phewas_string       object\n",
       "cases                int64\n",
       "controls             int64\n",
       "category_string     object\n",
       "odds_ratio         float64\n",
       "p                  float64\n",
       "l95                float64\n",
       "u95                float64\n",
       "gene_name           object\n",
       "maf                float64\n",
       "a1                  object\n",
       "a2                  object\n",
       "chromosome           int64\n",
       "nchrobs              int64\n",
       "dtype: object"
      ]
     },
     "execution_count": 6,
     "metadata": {},
     "output_type": "execute_result"
    }
   ],
   "execution_count": 6
  },
  {
   "metadata": {
    "ExecuteTime": {
     "end_time": "2024-05-30T09:25:45.311360Z",
     "start_time": "2024-05-30T09:25:45.271358Z"
    }
   },
   "cell_type": "code",
   "source": [
    "# Check the missing values in the data\n",
    "data.isnull().sum()"
   ],
   "id": "106ebdcc64b65294",
   "outputs": [
    {
     "data": {
      "text/plain": [
       "snp                  0\n",
       "phewas_code          0\n",
       "phewas_string        0\n",
       "cases                0\n",
       "controls             0\n",
       "category_string    176\n",
       "odds_ratio           0\n",
       "p                    0\n",
       "l95                  0\n",
       "u95                  0\n",
       "gene_name            0\n",
       "maf                  0\n",
       "a1                   0\n",
       "a2                   0\n",
       "chromosome           0\n",
       "nchrobs              0\n",
       "dtype: int64"
      ]
     },
     "execution_count": 7,
     "metadata": {},
     "output_type": "execute_result"
    }
   ],
   "execution_count": 7
  },
  {
   "metadata": {
    "ExecuteTime": {
     "end_time": "2024-05-30T09:25:45.356449Z",
     "start_time": "2024-05-30T09:25:45.311360Z"
    }
   },
   "cell_type": "code",
   "source": [
    "# Print the specific rows with missing values\n",
    "data[data.isnull().any(axis=1)]"
   ],
   "id": "6791fe6fe7028de7",
   "outputs": [
    {
     "data": {
      "text/plain": [
       "                  snp  phewas_code phewas_string  cases  controls  \\\n",
       "225280       HLA_A_01        797.2  Septic shock    451     27328   \n",
       "225281     HLA_A_0101        797.2  Septic shock    451     27328   \n",
       "225282       HLA_A_02        797.2  Septic shock    451     27328   \n",
       "225283     HLA_A_0201        797.2  Septic shock    451     27328   \n",
       "225284       HLA_A_03        797.2  Septic shock    451     27328   \n",
       "...               ...          ...           ...    ...       ...   \n",
       "225451    HLA_DRB1_14        797.2  Septic shock    451     27328   \n",
       "225452  HLA_DRB1_1401        797.2  Septic shock    451     27328   \n",
       "225453    HLA_DRB1_15        797.2  Septic shock    451     27328   \n",
       "225454  HLA_DRB1_1501        797.2  Septic shock    451     27328   \n",
       "225455    HLA_DRB1_16        797.2  Septic shock    451     27328   \n",
       "\n",
       "       category_string  odds_ratio       p    l95    u95 gene_name      maf  \\\n",
       "225280             NaN       1.079  0.4575  0.883  1.317         A  0.16550   \n",
       "225281             NaN       1.080  0.4487  0.885  1.319         A  0.16530   \n",
       "225282             NaN       0.972  0.7613  0.806  1.171         A  0.30250   \n",
       "225283             NaN       1.011  0.9078  0.839  1.218         A  0.29060   \n",
       "225284             NaN       0.866  0.1961  0.697  1.077         A  0.14350   \n",
       "...                ...         ...     ...    ...    ...       ...      ...   \n",
       "225451             NaN       1.086  0.7154  0.698  1.690      DRB1  0.02207   \n",
       "225452             NaN       0.745  0.3377  0.408  1.360      DRB1  0.01644   \n",
       "225453             NaN       0.847  0.1330  0.683  1.052      DRB1  0.14790   \n",
       "225454             NaN       0.837  0.1124  0.671  1.043      DRB1  0.14080   \n",
       "225455             NaN       1.505  0.1523  0.860  2.634      DRB1  0.01000   \n",
       "\n",
       "       a1 a2  chromosome  nchrobs  \n",
       "225280  P  A           6    57678  \n",
       "225281  P  A           6    57678  \n",
       "225282  P  A           6    57678  \n",
       "225283  P  A           6    57678  \n",
       "225284  P  A           6    57678  \n",
       "...    .. ..         ...      ...  \n",
       "225451  P  A           6    57678  \n",
       "225452  P  A           6    57678  \n",
       "225453  P  A           6    57678  \n",
       "225454  P  A           6    57678  \n",
       "225455  P  A           6    57678  \n",
       "\n",
       "[176 rows x 16 columns]"
      ],
      "text/html": [
       "<div>\n",
       "<style scoped>\n",
       "    .dataframe tbody tr th:only-of-type {\n",
       "        vertical-align: middle;\n",
       "    }\n",
       "\n",
       "    .dataframe tbody tr th {\n",
       "        vertical-align: top;\n",
       "    }\n",
       "\n",
       "    .dataframe thead th {\n",
       "        text-align: right;\n",
       "    }\n",
       "</style>\n",
       "<table border=\"1\" class=\"dataframe\">\n",
       "  <thead>\n",
       "    <tr style=\"text-align: right;\">\n",
       "      <th></th>\n",
       "      <th>snp</th>\n",
       "      <th>phewas_code</th>\n",
       "      <th>phewas_string</th>\n",
       "      <th>cases</th>\n",
       "      <th>controls</th>\n",
       "      <th>category_string</th>\n",
       "      <th>odds_ratio</th>\n",
       "      <th>p</th>\n",
       "      <th>l95</th>\n",
       "      <th>u95</th>\n",
       "      <th>gene_name</th>\n",
       "      <th>maf</th>\n",
       "      <th>a1</th>\n",
       "      <th>a2</th>\n",
       "      <th>chromosome</th>\n",
       "      <th>nchrobs</th>\n",
       "    </tr>\n",
       "  </thead>\n",
       "  <tbody>\n",
       "    <tr>\n",
       "      <th>225280</th>\n",
       "      <td>HLA_A_01</td>\n",
       "      <td>797.2</td>\n",
       "      <td>Septic shock</td>\n",
       "      <td>451</td>\n",
       "      <td>27328</td>\n",
       "      <td>NaN</td>\n",
       "      <td>1.079</td>\n",
       "      <td>0.4575</td>\n",
       "      <td>0.883</td>\n",
       "      <td>1.317</td>\n",
       "      <td>A</td>\n",
       "      <td>0.16550</td>\n",
       "      <td>P</td>\n",
       "      <td>A</td>\n",
       "      <td>6</td>\n",
       "      <td>57678</td>\n",
       "    </tr>\n",
       "    <tr>\n",
       "      <th>225281</th>\n",
       "      <td>HLA_A_0101</td>\n",
       "      <td>797.2</td>\n",
       "      <td>Septic shock</td>\n",
       "      <td>451</td>\n",
       "      <td>27328</td>\n",
       "      <td>NaN</td>\n",
       "      <td>1.080</td>\n",
       "      <td>0.4487</td>\n",
       "      <td>0.885</td>\n",
       "      <td>1.319</td>\n",
       "      <td>A</td>\n",
       "      <td>0.16530</td>\n",
       "      <td>P</td>\n",
       "      <td>A</td>\n",
       "      <td>6</td>\n",
       "      <td>57678</td>\n",
       "    </tr>\n",
       "    <tr>\n",
       "      <th>225282</th>\n",
       "      <td>HLA_A_02</td>\n",
       "      <td>797.2</td>\n",
       "      <td>Septic shock</td>\n",
       "      <td>451</td>\n",
       "      <td>27328</td>\n",
       "      <td>NaN</td>\n",
       "      <td>0.972</td>\n",
       "      <td>0.7613</td>\n",
       "      <td>0.806</td>\n",
       "      <td>1.171</td>\n",
       "      <td>A</td>\n",
       "      <td>0.30250</td>\n",
       "      <td>P</td>\n",
       "      <td>A</td>\n",
       "      <td>6</td>\n",
       "      <td>57678</td>\n",
       "    </tr>\n",
       "    <tr>\n",
       "      <th>225283</th>\n",
       "      <td>HLA_A_0201</td>\n",
       "      <td>797.2</td>\n",
       "      <td>Septic shock</td>\n",
       "      <td>451</td>\n",
       "      <td>27328</td>\n",
       "      <td>NaN</td>\n",
       "      <td>1.011</td>\n",
       "      <td>0.9078</td>\n",
       "      <td>0.839</td>\n",
       "      <td>1.218</td>\n",
       "      <td>A</td>\n",
       "      <td>0.29060</td>\n",
       "      <td>P</td>\n",
       "      <td>A</td>\n",
       "      <td>6</td>\n",
       "      <td>57678</td>\n",
       "    </tr>\n",
       "    <tr>\n",
       "      <th>225284</th>\n",
       "      <td>HLA_A_03</td>\n",
       "      <td>797.2</td>\n",
       "      <td>Septic shock</td>\n",
       "      <td>451</td>\n",
       "      <td>27328</td>\n",
       "      <td>NaN</td>\n",
       "      <td>0.866</td>\n",
       "      <td>0.1961</td>\n",
       "      <td>0.697</td>\n",
       "      <td>1.077</td>\n",
       "      <td>A</td>\n",
       "      <td>0.14350</td>\n",
       "      <td>P</td>\n",
       "      <td>A</td>\n",
       "      <td>6</td>\n",
       "      <td>57678</td>\n",
       "    </tr>\n",
       "    <tr>\n",
       "      <th>...</th>\n",
       "      <td>...</td>\n",
       "      <td>...</td>\n",
       "      <td>...</td>\n",
       "      <td>...</td>\n",
       "      <td>...</td>\n",
       "      <td>...</td>\n",
       "      <td>...</td>\n",
       "      <td>...</td>\n",
       "      <td>...</td>\n",
       "      <td>...</td>\n",
       "      <td>...</td>\n",
       "      <td>...</td>\n",
       "      <td>...</td>\n",
       "      <td>...</td>\n",
       "      <td>...</td>\n",
       "      <td>...</td>\n",
       "    </tr>\n",
       "    <tr>\n",
       "      <th>225451</th>\n",
       "      <td>HLA_DRB1_14</td>\n",
       "      <td>797.2</td>\n",
       "      <td>Septic shock</td>\n",
       "      <td>451</td>\n",
       "      <td>27328</td>\n",
       "      <td>NaN</td>\n",
       "      <td>1.086</td>\n",
       "      <td>0.7154</td>\n",
       "      <td>0.698</td>\n",
       "      <td>1.690</td>\n",
       "      <td>DRB1</td>\n",
       "      <td>0.02207</td>\n",
       "      <td>P</td>\n",
       "      <td>A</td>\n",
       "      <td>6</td>\n",
       "      <td>57678</td>\n",
       "    </tr>\n",
       "    <tr>\n",
       "      <th>225452</th>\n",
       "      <td>HLA_DRB1_1401</td>\n",
       "      <td>797.2</td>\n",
       "      <td>Septic shock</td>\n",
       "      <td>451</td>\n",
       "      <td>27328</td>\n",
       "      <td>NaN</td>\n",
       "      <td>0.745</td>\n",
       "      <td>0.3377</td>\n",
       "      <td>0.408</td>\n",
       "      <td>1.360</td>\n",
       "      <td>DRB1</td>\n",
       "      <td>0.01644</td>\n",
       "      <td>P</td>\n",
       "      <td>A</td>\n",
       "      <td>6</td>\n",
       "      <td>57678</td>\n",
       "    </tr>\n",
       "    <tr>\n",
       "      <th>225453</th>\n",
       "      <td>HLA_DRB1_15</td>\n",
       "      <td>797.2</td>\n",
       "      <td>Septic shock</td>\n",
       "      <td>451</td>\n",
       "      <td>27328</td>\n",
       "      <td>NaN</td>\n",
       "      <td>0.847</td>\n",
       "      <td>0.1330</td>\n",
       "      <td>0.683</td>\n",
       "      <td>1.052</td>\n",
       "      <td>DRB1</td>\n",
       "      <td>0.14790</td>\n",
       "      <td>P</td>\n",
       "      <td>A</td>\n",
       "      <td>6</td>\n",
       "      <td>57678</td>\n",
       "    </tr>\n",
       "    <tr>\n",
       "      <th>225454</th>\n",
       "      <td>HLA_DRB1_1501</td>\n",
       "      <td>797.2</td>\n",
       "      <td>Septic shock</td>\n",
       "      <td>451</td>\n",
       "      <td>27328</td>\n",
       "      <td>NaN</td>\n",
       "      <td>0.837</td>\n",
       "      <td>0.1124</td>\n",
       "      <td>0.671</td>\n",
       "      <td>1.043</td>\n",
       "      <td>DRB1</td>\n",
       "      <td>0.14080</td>\n",
       "      <td>P</td>\n",
       "      <td>A</td>\n",
       "      <td>6</td>\n",
       "      <td>57678</td>\n",
       "    </tr>\n",
       "    <tr>\n",
       "      <th>225455</th>\n",
       "      <td>HLA_DRB1_16</td>\n",
       "      <td>797.2</td>\n",
       "      <td>Septic shock</td>\n",
       "      <td>451</td>\n",
       "      <td>27328</td>\n",
       "      <td>NaN</td>\n",
       "      <td>1.505</td>\n",
       "      <td>0.1523</td>\n",
       "      <td>0.860</td>\n",
       "      <td>2.634</td>\n",
       "      <td>DRB1</td>\n",
       "      <td>0.01000</td>\n",
       "      <td>P</td>\n",
       "      <td>A</td>\n",
       "      <td>6</td>\n",
       "      <td>57678</td>\n",
       "    </tr>\n",
       "  </tbody>\n",
       "</table>\n",
       "<p>176 rows × 16 columns</p>\n",
       "</div>"
      ]
     },
     "execution_count": 8,
     "metadata": {},
     "output_type": "execute_result"
    }
   ],
   "execution_count": 8
  },
  {
   "metadata": {
    "ExecuteTime": {
     "end_time": "2024-05-30T09:25:45.368754Z",
     "start_time": "2024-05-30T09:25:45.356950Z"
    }
   },
   "cell_type": "code",
   "source": [
    "# Check that all the septic shock categories are missing\n",
    "data[data['phewas_string'] == 'Septic shock'].shape"
   ],
   "id": "3806e19d56739bd3",
   "outputs": [
    {
     "data": {
      "text/plain": [
       "(176, 16)"
      ]
     },
     "execution_count": 9,
     "metadata": {},
     "output_type": "execute_result"
    }
   ],
   "execution_count": 9
  },
  {
   "metadata": {
    "ExecuteTime": {
     "end_time": "2024-05-30T09:25:45.417732Z",
     "start_time": "2024-05-30T09:25:45.370274Z"
    }
   },
   "cell_type": "code",
   "source": [
    "# Impute the missing values with infectious diseases as is closest to the missing values\n",
    "data['category_string'] = data['category_string'].fillna('infectious diseases')\n",
    "\n",
    "# Check the missing values in the data\n",
    "data.isnull().sum()"
   ],
   "id": "fe9460ef6bf22733",
   "outputs": [
    {
     "data": {
      "text/plain": [
       "snp                0\n",
       "phewas_code        0\n",
       "phewas_string      0\n",
       "cases              0\n",
       "controls           0\n",
       "category_string    0\n",
       "odds_ratio         0\n",
       "p                  0\n",
       "l95                0\n",
       "u95                0\n",
       "gene_name          0\n",
       "maf                0\n",
       "a1                 0\n",
       "a2                 0\n",
       "chromosome         0\n",
       "nchrobs            0\n",
       "dtype: int64"
      ]
     },
     "execution_count": 10,
     "metadata": {},
     "output_type": "execute_result"
    }
   ],
   "execution_count": 10
  },
  {
   "metadata": {
    "ExecuteTime": {
     "end_time": "2024-05-30T09:25:45.422778Z",
     "start_time": "2024-05-30T09:25:45.417732Z"
    }
   },
   "cell_type": "code",
   "source": [
    "# Check for unique values in chromosome and nchrobs column\n",
    "len(data['chromosome'].unique())"
   ],
   "id": "bf12aad74da3db5",
   "outputs": [
    {
     "data": {
      "text/plain": [
       "1"
      ]
     },
     "execution_count": 11,
     "metadata": {},
     "output_type": "execute_result"
    }
   ],
   "execution_count": 11
  },
  {
   "metadata": {
    "ExecuteTime": {
     "end_time": "2024-05-30T09:25:45.437472Z",
     "start_time": "2024-05-30T09:25:45.423784Z"
    }
   },
   "cell_type": "code",
   "source": [
    "len(data['nchrobs'].unique())\n",
    "# Drop chromosome and nchrobs columns as they are the same for all the rows (because the data is from the same chromosome)\n",
    "data = data.drop(['chromosome', 'nchrobs'], axis=1)"
   ],
   "id": "1fe87246286487dd",
   "outputs": [],
   "execution_count": 12
  },
  {
   "metadata": {
    "ExecuteTime": {
     "end_time": "2024-05-30T09:25:45.450502Z",
     "start_time": "2024-05-30T09:25:45.438477Z"
    }
   },
   "cell_type": "code",
   "source": [
    "# Print the gene names\n",
    "data['gene_name'].unique()\n",
    "# Add a new column to the data to indicate the class based on the gene name\n",
    "data['gene_class'] = np.where(data['gene_name'].isin(['A', 'B', 'C']), 1, 2)"
   ],
   "id": "e2da9e336fe781a5",
   "outputs": [],
   "execution_count": 13
  },
  {
   "metadata": {
    "ExecuteTime": {
     "end_time": "2024-05-30T09:25:45.464533Z",
     "start_time": "2024-05-30T09:25:45.451002Z"
    }
   },
   "cell_type": "code",
   "source": [
    "# Drop phewas_string column as it is not needed\n",
    "data = data.drop(['phewas_string'], axis=1)"
   ],
   "id": "767a612442a7ba16",
   "outputs": [],
   "execution_count": 14
  },
  {
   "metadata": {},
   "cell_type": "markdown",
   "source": "# Exploratory Data Analysis",
   "id": "512ba91106cc3620"
  },
  {
   "metadata": {
    "ExecuteTime": {
     "end_time": "2024-05-30T09:25:45.553335Z",
     "start_time": "2024-05-30T09:25:45.465033Z"
    }
   },
   "cell_type": "code",
   "source": [
    "# Plot the distribution of the maf column\n",
    "plt.hist(data['maf'], bins=20)\n",
    "plt.xlabel('maf')\n",
    "plt.ylabel('Frequency')\n",
    "plt.title('Distribution of maf')\n",
    "plt.show()"
   ],
   "id": "224ccd0440d97ace",
   "outputs": [
    {
     "data": {
      "text/plain": [
       "<Figure size 640x480 with 1 Axes>"
      ],
      "image/png": "[encoded data removed]"
     },
     "metadata": {},
     "output_type": "display_data"
    }
   ],
   "execution_count": 15
  },
  {
   "metadata": {
    "ExecuteTime": {
     "end_time": "2024-05-30T09:25:45.626416Z",
     "start_time": "2024-05-30T09:25:45.553335Z"
    }
   },
   "cell_type": "code",
   "source": [
    "# Plot the distribution of the odds_ratio column\n",
    "plt.hist(data['odds_ratio'], range=(0, 1))\n",
    "plt.xlabel('odds_ratio')\n",
    "plt.ylabel('Frequency')\n",
    "plt.title('Distribution of odds_ratio')\n",
    "plt.show()"
   ],
   "id": "e58310f94495964c",
   "outputs": [
    {
     "data": {
      "text/plain": [
       "<Figure size 640x480 with 1 Axes>"
      ],
      "image/png": "[encoded data removed]"
     },
     "metadata": {},
     "output_type": "display_data"
    }
   ],
   "execution_count": 16
  },
  {
   "metadata": {
    "ExecuteTime": {
     "end_time": "2024-05-30T09:25:45.789612Z",
     "start_time": "2024-05-30T09:25:45.626416Z"
    }
   },
   "cell_type": "code",
   "source": [
    "# Plot the distribution of the u95 and l95 columns\n",
    "plt.hist(data['u95'], bins=20)\n",
    "plt.xlabel('u95')\n",
    "plt.ylabel('Frequency')\n",
    "plt.title('Distribution of u95')\n",
    "plt.show()\n",
    "\n",
    "plt.hist(data['l95'], bins=20, range=(0, 20))\n",
    "plt.xlabel('l95')\n",
    "plt.ylabel('Frequency')\n",
    "plt.title('Distribution of l95')\n",
    "plt.show()"
   ],
   "id": "1f29a9c9e5c5d895",
   "outputs": [
    {
     "data": {
      "text/plain": [
       "<Figure size 640x480 with 1 Axes>"
      ],
      "image/png": "[encoded data removed]"
     },
     "metadata": {},
     "output_type": "display_data"
    },
    {
     "data": {
      "text/plain": [
       "<Figure size 640x480 with 1 Axes>"
      ],
      "image/png": "[encoded data removed]"
     },
     "metadata": {},
     "output_type": "display_data"
    }
   ],
   "execution_count": 17
  },
  {
   "metadata": {
    "ExecuteTime": {
     "end_time": "2024-05-30T09:25:45.867814Z",
     "start_time": "2024-05-30T09:25:45.790117Z"
    }
   },
   "cell_type": "code",
   "source": [
    "# Plot the distribution of the pval column\n",
    "plt.hist(data['p'], bins=20)"
   ],
   "id": "dab8940406f89dd1",
   "outputs": [
    {
     "data": {
      "text/plain": [
       "(array([13430., 12018., 11886., 12014., 12176., 12114., 12164., 11855.,\n",
       "        11763., 11878., 12106., 11786., 11563., 11692., 11635., 11498.,\n",
       "        11409., 11533., 11511., 14737.]),\n",
       " array([4.613e-54, 5.000e-02, 1.000e-01, 1.500e-01, 2.000e-01, 2.500e-01,\n",
       "        3.000e-01, 3.500e-01, 4.000e-01, 4.500e-01, 5.000e-01, 5.500e-01,\n",
       "        6.000e-01, 6.500e-01, 7.000e-01, 7.500e-01, 8.000e-01, 8.500e-01,\n",
       "        9.000e-01, 9.500e-01, 1.000e+00]),\n",
       " <BarContainer object of 20 artists>)"
      ]
     },
     "execution_count": 18,
     "metadata": {},
     "output_type": "execute_result"
    },
    {
     "data": {
      "text/plain": [
       "<Figure size 640x480 with 1 Axes>"
      ],
      "image/png": "[encoded data removed]"
     },
     "metadata": {},
     "output_type": "display_data"
    }
   ],
   "execution_count": 18
  },
  {
   "metadata": {},
   "cell_type": "markdown",
   "source": "# Data Preprocessing",
   "id": "e19900c831936eb4"
  },
  {
   "metadata": {
    "ExecuteTime": {
     "end_time": "2024-05-30T09:25:45.925491Z",
     "start_time": "2024-05-30T09:25:45.868319Z"
    }
   },
   "cell_type": "code",
   "source": [
    "# Count number of unique values in each column\n",
    "data.nunique()"
   ],
   "id": "54dd9aecf0b1fc26",
   "outputs": [
    {
     "data": {
      "text/plain": [
       "snp                  176\n",
       "phewas_code         1368\n",
       "cases                720\n",
       "controls             198\n",
       "category_string       17\n",
       "odds_ratio          2966\n",
       "p                  19748\n",
       "l95                 1669\n",
       "u95                 6571\n",
       "gene_name              8\n",
       "maf                  151\n",
       "a1                     2\n",
       "a2                     2\n",
       "gene_class             2\n",
       "dtype: int64"
      ]
     },
     "execution_count": 19,
     "metadata": {},
     "output_type": "execute_result"
    }
   ],
   "execution_count": 19
  },
  {
   "metadata": {
    "ExecuteTime": {
     "end_time": "2024-05-30T09:25:46.158502Z",
     "start_time": "2024-05-30T09:25:45.926497Z"
    }
   },
   "cell_type": "code",
   "source": [
    "# Encode HLA alleles using binary encoding from category_encoders\n",
    "encoder = ce.BinaryEncoder(cols=['snp'])\n",
    "data = encoder.fit_transform(data)\n",
    "data.head()\n",
    "\n",
    "# Check the shape of the data\n",
    "data.shape"
   ],
   "id": "b127f42f86fe6ca3",
   "outputs": [
    {
     "data": {
      "text/plain": [
       "(240768, 21)"
      ]
     },
     "execution_count": 20,
     "metadata": {},
     "output_type": "execute_result"
    }
   ],
   "execution_count": 20
  },
  {
   "metadata": {
    "ExecuteTime": {
     "end_time": "2024-05-30T09:25:46.296869Z",
     "start_time": "2024-05-30T09:25:46.159006Z"
    }
   },
   "cell_type": "code",
   "source": [
    "# Encode other categorical columns using one-hot encoding\n",
    "data = pd.get_dummies(data, columns=['category_string'])\n",
    "data = pd.get_dummies(data, columns=['gene_name'])\n",
    "\n",
    "# Combine a1 and a2 columns\n",
    "data['a1_a2'] = data['a1'] + data['a2']\n",
    "data = data.drop(['a1', 'a2'], axis=1)\n",
    "\n",
    "# Encode a1_a2 column using one-hot encoding\n",
    "data = pd.get_dummies(data, columns=['a1_a2'])\n",
    "\n",
    "\n",
    "data.head()\n",
    "\n",
    "data.shape"
   ],
   "id": "1f110f31b0ada129",
   "outputs": [
    {
     "data": {
      "text/plain": [
       "(240768, 44)"
      ]
     },
     "execution_count": 21,
     "metadata": {},
     "output_type": "execute_result"
    }
   ],
   "execution_count": 21
  },
  {
   "metadata": {
    "ExecuteTime": {
     "end_time": "2024-05-30T09:25:46.599722Z",
     "start_time": "2024-05-30T09:25:46.297373Z"
    }
   },
   "cell_type": "code",
   "source": [
    "# Scale the data\n",
    "from sklearn.preprocessing import StandardScaler\n",
    "scaler = StandardScaler()\n",
    "\n",
    "# Scale the data\n",
    "data_scaled = scaler.fit_transform(data)\n",
    "data_scaled = pd.DataFrame(data_scaled, columns=data.columns)\n",
    "data_scaled.head()"
   ],
   "id": "79cc587cf101099e",
   "outputs": [
    {
     "data": {
      "text/plain": [
       "     snp_0     snp_1     snp_2     snp_3  snp_4  snp_5  snp_6  snp_7  \\\n",
       "0 -0.62115 -0.755929 -0.923381 -0.923381   -1.0   -1.0   -1.0    1.0   \n",
       "1 -0.62115 -0.755929 -0.923381 -0.923381   -1.0   -1.0    1.0   -1.0   \n",
       "2 -0.62115 -0.755929 -0.923381 -0.923381   -1.0   -1.0    1.0    1.0   \n",
       "3 -0.62115 -0.755929 -0.923381 -0.923381   -1.0    1.0   -1.0   -1.0   \n",
       "4 -0.62115 -0.755929 -0.923381 -0.923381   -1.0    1.0   -1.0    1.0   \n",
       "\n",
       "   phewas_code     cases  ...  gene_name_A  gene_name_B  gene_name_C  \\\n",
       "0    -2.183109  0.076031  ...     2.401922     -0.52475    -0.425685   \n",
       "1    -2.183109  0.076031  ...     2.401922     -0.52475    -0.425685   \n",
       "2    -2.183109  0.076031  ...     2.401922     -0.52475    -0.425685   \n",
       "3    -2.183109  0.076031  ...     2.401922     -0.52475    -0.425685   \n",
       "4    -2.183109  0.076031  ...     2.401922     -0.52475    -0.425685   \n",
       "\n",
       "   gene_name_DPA1  gene_name_DPB1  gene_name_DQA1  gene_name_DQB1  \\\n",
       "0       -0.170996        -0.38772       -0.270501       -0.326984   \n",
       "1       -0.170996        -0.38772       -0.270501       -0.326984   \n",
       "2       -0.170996        -0.38772       -0.270501       -0.326984   \n",
       "3       -0.170996        -0.38772       -0.270501       -0.326984   \n",
       "4       -0.170996        -0.38772       -0.270501       -0.326984   \n",
       "\n",
       "   gene_name_DRB1  a1_a2_AP  a1_a2_PA  \n",
       "0       -0.434959 -0.131685  0.131685  \n",
       "1       -0.434959 -0.131685  0.131685  \n",
       "2       -0.434959 -0.131685  0.131685  \n",
       "3       -0.434959 -0.131685  0.131685  \n",
       "4       -0.434959 -0.131685  0.131685  \n",
       "\n",
       "[5 rows x 44 columns]"
      ],
      "text/html": [
       "<div>\n",
       "<style scoped>\n",
       "    .dataframe tbody tr th:only-of-type {\n",
       "        vertical-align: middle;\n",
       "    }\n",
       "\n",
       "    .dataframe tbody tr th {\n",
       "        vertical-align: top;\n",
       "    }\n",
       "\n",
       "    .dataframe thead th {\n",
       "        text-align: right;\n",
       "    }\n",
       "</style>\n",
       "<table border=\"1\" class=\"dataframe\">\n",
       "  <thead>\n",
       "    <tr style=\"text-align: right;\">\n",
       "      <th></th>\n",
       "      <th>snp_0</th>\n",
       "      <th>snp_1</th>\n",
       "      <th>snp_2</th>\n",
       "      <th>snp_3</th>\n",
       "      <th>snp_4</th>\n",
       "      <th>snp_5</th>\n",
       "      <th>snp_6</th>\n",
       "      <th>snp_7</th>\n",
       "      <th>phewas_code</th>\n",
       "      <th>cases</th>\n",
       "      <th>...</th>\n",
       "      <th>gene_name_A</th>\n",
       "      <th>gene_name_B</th>\n",
       "      <th>gene_name_C</th>\n",
       "      <th>gene_name_DPA1</th>\n",
       "      <th>gene_name_DPB1</th>\n",
       "      <th>gene_name_DQA1</th>\n",
       "      <th>gene_name_DQB1</th>\n",
       "      <th>gene_name_DRB1</th>\n",
       "      <th>a1_a2_AP</th>\n",
       "      <th>a1_a2_PA</th>\n",
       "    </tr>\n",
       "  </thead>\n",
       "  <tbody>\n",
       "    <tr>\n",
       "      <th>0</th>\n",
       "      <td>-0.62115</td>\n",
       "      <td>-0.755929</td>\n",
       "      <td>-0.923381</td>\n",
       "      <td>-0.923381</td>\n",
       "      <td>-1.0</td>\n",
       "      <td>-1.0</td>\n",
       "      <td>-1.0</td>\n",
       "      <td>1.0</td>\n",
       "      <td>-2.183109</td>\n",
       "      <td>0.076031</td>\n",
       "      <td>...</td>\n",
       "      <td>2.401922</td>\n",
       "      <td>-0.52475</td>\n",
       "      <td>-0.425685</td>\n",
       "      <td>-0.170996</td>\n",
       "      <td>-0.38772</td>\n",
       "      <td>-0.270501</td>\n",
       "      <td>-0.326984</td>\n",
       "      <td>-0.434959</td>\n",
       "      <td>-0.131685</td>\n",
       "      <td>0.131685</td>\n",
       "    </tr>\n",
       "    <tr>\n",
       "      <th>1</th>\n",
       "      <td>-0.62115</td>\n",
       "      <td>-0.755929</td>\n",
       "      <td>-0.923381</td>\n",
       "      <td>-0.923381</td>\n",
       "      <td>-1.0</td>\n",
       "      <td>-1.0</td>\n",
       "      <td>1.0</td>\n",
       "      <td>-1.0</td>\n",
       "      <td>-2.183109</td>\n",
       "      <td>0.076031</td>\n",
       "      <td>...</td>\n",
       "      <td>2.401922</td>\n",
       "      <td>-0.52475</td>\n",
       "      <td>-0.425685</td>\n",
       "      <td>-0.170996</td>\n",
       "      <td>-0.38772</td>\n",
       "      <td>-0.270501</td>\n",
       "      <td>-0.326984</td>\n",
       "      <td>-0.434959</td>\n",
       "      <td>-0.131685</td>\n",
       "      <td>0.131685</td>\n",
       "    </tr>\n",
       "    <tr>\n",
       "      <th>2</th>\n",
       "      <td>-0.62115</td>\n",
       "      <td>-0.755929</td>\n",
       "      <td>-0.923381</td>\n",
       "      <td>-0.923381</td>\n",
       "      <td>-1.0</td>\n",
       "      <td>-1.0</td>\n",
       "      <td>1.0</td>\n",
       "      <td>1.0</td>\n",
       "      <td>-2.183109</td>\n",
       "      <td>0.076031</td>\n",
       "      <td>...</td>\n",
       "      <td>2.401922</td>\n",
       "      <td>-0.52475</td>\n",
       "      <td>-0.425685</td>\n",
       "      <td>-0.170996</td>\n",
       "      <td>-0.38772</td>\n",
       "      <td>-0.270501</td>\n",
       "      <td>-0.326984</td>\n",
       "      <td>-0.434959</td>\n",
       "      <td>-0.131685</td>\n",
       "      <td>0.131685</td>\n",
       "    </tr>\n",
       "    <tr>\n",
       "      <th>3</th>\n",
       "      <td>-0.62115</td>\n",
       "      <td>-0.755929</td>\n",
       "      <td>-0.923381</td>\n",
       "      <td>-0.923381</td>\n",
       "      <td>-1.0</td>\n",
       "      <td>1.0</td>\n",
       "      <td>-1.0</td>\n",
       "      <td>-1.0</td>\n",
       "      <td>-2.183109</td>\n",
       "      <td>0.076031</td>\n",
       "      <td>...</td>\n",
       "      <td>2.401922</td>\n",
       "      <td>-0.52475</td>\n",
       "      <td>-0.425685</td>\n",
       "      <td>-0.170996</td>\n",
       "      <td>-0.38772</td>\n",
       "      <td>-0.270501</td>\n",
       "      <td>-0.326984</td>\n",
       "      <td>-0.434959</td>\n",
       "      <td>-0.131685</td>\n",
       "      <td>0.131685</td>\n",
       "    </tr>\n",
       "    <tr>\n",
       "      <th>4</th>\n",
       "      <td>-0.62115</td>\n",
       "      <td>-0.755929</td>\n",
       "      <td>-0.923381</td>\n",
       "      <td>-0.923381</td>\n",
       "      <td>-1.0</td>\n",
       "      <td>1.0</td>\n",
       "      <td>-1.0</td>\n",
       "      <td>1.0</td>\n",
       "      <td>-2.183109</td>\n",
       "      <td>0.076031</td>\n",
       "      <td>...</td>\n",
       "      <td>2.401922</td>\n",
       "      <td>-0.52475</td>\n",
       "      <td>-0.425685</td>\n",
       "      <td>-0.170996</td>\n",
       "      <td>-0.38772</td>\n",
       "      <td>-0.270501</td>\n",
       "      <td>-0.326984</td>\n",
       "      <td>-0.434959</td>\n",
       "      <td>-0.131685</td>\n",
       "      <td>0.131685</td>\n",
       "    </tr>\n",
       "  </tbody>\n",
       "</table>\n",
       "<p>5 rows × 44 columns</p>\n",
       "</div>"
      ]
     },
     "execution_count": 22,
     "metadata": {},
     "output_type": "execute_result"
    }
   ],
   "execution_count": 22
  },
  {
   "metadata": {},
   "cell_type": "markdown",
   "source": "# Train the Self-Organizing Map (SOM)",
   "id": "2565d51b936875dd"
  },
  {
   "metadata": {
    "ExecuteTime": {
     "end_time": "2024-05-30T09:25:46.601981Z",
     "start_time": "2024-05-30T09:25:46.600225Z"
    }
   },
   "cell_type": "code",
   "source": "",
   "id": "cde0ecd57d686bd",
   "outputs": [],
   "execution_count": 22
  },
  {
   "metadata": {},
   "cell_type": "markdown",
   "source": "# Visualize the SOM",
   "id": "26b0abaf0a371d49"
  },
  {
   "metadata": {},
   "cell_type": "markdown",
   "source": "",
   "id": "3006e47d78ff6a1"
  }
 ],
 "metadata": {
  "kernelspec": {
   "display_name": "Python 3",
   "language": "python",
   "name": "python3"
  },
  "language_info": {
   "codemirror_mode": {
    "name": "ipython",
    "version": 2
   },
   "file_extension": ".py",
   "mimetype": "text/x-python",
   "name": "python",
   "nbconvert_exporter": "python",
   "pygments_lexer": "ipython2",
   "version": "2.7.6"
  }
 },
 "nbformat": 4,
 "nbformat_minor": 5
}
